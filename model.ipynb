{
 "cells": [
  {
   "cell_type": "markdown",
   "source": [
    "# Поиск и обучение наиболее подходящей модели для задачи регрессии"
   ],
   "metadata": {
    "collapsed": false,
    "pycharm": {
     "name": "#%% md\n"
    }
   }
  },
  {
   "cell_type": "markdown",
   "source": [
    "# Dependencies"
   ],
   "metadata": {
    "collapsed": false,
    "pycharm": {
     "name": "#%% md\n"
    }
   }
  },
  {
   "cell_type": "code",
   "execution_count": 1,
   "metadata": {
    "collapsed": true,
    "pycharm": {
     "name": "#%%\n"
    }
   },
   "outputs": [],
   "source": [
    "import numpy as np\n",
    "import pandas as pd\n",
    "\n",
    "from sklearn.model_selection import  GridSearchCV, StratifiedShuffleSplit\n",
    "from sklearn.preprocessing import StandardScaler\n",
    "from sklearn.pipeline import Pipeline"
   ]
  },
  {
   "cell_type": "markdown",
   "source": [
    "## Models"
   ],
   "metadata": {
    "collapsed": false,
    "pycharm": {
     "name": "#%% md\n"
    }
   }
  },
  {
   "cell_type": "markdown",
   "source": [
    "В качестве моделей регрессий, среди которых будет искаться наилучшая, выбраны следующие:\n",
    "\n",
    "* Линейная регрессия\n",
    "* Линейная регрессия со стохастическим градиентным спуском\n",
    "* Дерево решений\n",
    "* Случайный лес\n",
    "* Adaptive Boosting\n",
    "* Варианты реализаций градиентного бустинга (catboost, lgbm, xgb)"
   ],
   "metadata": {
    "collapsed": false,
    "pycharm": {
     "name": "#%% md\n"
    }
   }
  },
  {
   "cell_type": "code",
   "execution_count": 2,
   "outputs": [],
   "source": [
    "from sklearn.linear_model import LinearRegression, SGDRegressor\n",
    "from sklearn.ensemble import RandomForestRegressor, AdaBoostRegressor\n",
    "from sklearn.tree import DecisionTreeRegressor\n",
    "from xgboost.sklearn import XGBRegressor\n",
    "from catboost import CatBoostRegressor\n",
    "from lightgbm import LGBMRegressor"
   ],
   "metadata": {
    "collapsed": false,
    "pycharm": {
     "name": "#%%\n"
    }
   }
  },
  {
   "cell_type": "markdown",
   "source": [
    "## Custom utils"
   ],
   "metadata": {
    "collapsed": false,
    "pycharm": {
     "name": "#%% md\n"
    }
   }
  },
  {
   "cell_type": "code",
   "execution_count": 3,
   "outputs": [],
   "source": [
    "from custom_transformers import CyclesToFailureAdder\n",
    "from utils import show_slice, get_rmse, get_r2, cross_val_evaluation"
   ],
   "metadata": {
    "collapsed": false,
    "pycharm": {
     "name": "#%%\n"
    }
   }
  },
  {
   "cell_type": "markdown",
   "source": [
    "# Data Loading"
   ],
   "metadata": {
    "collapsed": false,
    "pycharm": {
     "name": "#%% md\n"
    }
   }
  },
  {
   "cell_type": "code",
   "execution_count": 4,
   "outputs": [
    {
     "name": "stdout",
     "output_type": "stream",
     "text": [
      "<class 'pandas.core.frame.DataFrame'>\n",
      "RangeIndex: 16138 entries, 0 to 16137\n",
      "Data columns (total 18 columns):\n",
      " #   Column             Non-Null Count  Dtype  \n",
      "---  ------             --------------  -----  \n",
      " 0   id                 16138 non-null  int64  \n",
      " 1   cycle              16138 non-null  int64  \n",
      " 2   p02                16138 non-null  float64\n",
      " 3   p03                16138 non-null  float64\n",
      " 4   p04                16138 non-null  float64\n",
      " 5   p05                16138 non-null  float64\n",
      " 6   p06                16138 non-null  float64\n",
      " 7   p08                16138 non-null  int64  \n",
      " 8   p11                16138 non-null  float64\n",
      " 9   p12                16138 non-null  float64\n",
      " 10  p13                16138 non-null  float64\n",
      " 11  p14                16138 non-null  float64\n",
      " 12  p15                16138 non-null  float64\n",
      " 13  p17                16138 non-null  float64\n",
      " 14  p18                16138 non-null  float64\n",
      " 15  p19                16138 non-null  float64\n",
      " 16  p20                16138 non-null  float64\n",
      " 17  cycles_to_failure  16138 non-null  int64  \n",
      "dtypes: float64(14), int64(4)\n",
      "memory usage: 2.2 MB\n"
     ]
    }
   ],
   "source": [
    "df = pd.read_csv('data.csv', sep=',')\n",
    "origin_cycles = df\n",
    "origin_cycles = CyclesToFailureAdder().transform(X=origin_cycles) # добавление колонки со значением циклов до отказа и удаление лишних величин\n",
    "origin_cycles.info()"
   ],
   "metadata": {
    "collapsed": false,
    "pycharm": {
     "name": "#%%\n"
    }
   }
  },
  {
   "cell_type": "markdown",
   "source": [
    "# Split the data"
   ],
   "metadata": {
    "collapsed": false,
    "pycharm": {
     "name": "#%% md\n"
    }
   }
  },
  {
   "cell_type": "markdown",
   "source": [
    "Для того, чтобы обучающая и тестовая выборка были одинаково репрезентативны, необходимо учесть, что в исходном наборе данных содержатся результаты измерений с нескольких моторов. Это позволяет предположить, что эту выборку можно разбить на области-страты (по номеру мотора) и затем осуществить стратифицированную выборку."
   ],
   "metadata": {
    "collapsed": false,
    "pycharm": {
     "name": "#%% md\n"
    }
   }
  },
  {
   "cell_type": "code",
   "execution_count": 5,
   "outputs": [],
   "source": [
    "train_set = None\n",
    "test_set = None\n",
    "\n",
    "split = StratifiedShuffleSplit(n_splits=1, test_size=0.2, random_state=42)\n",
    "for train_index, test_index in split.split(origin_cycles, origin_cycles[\"id\"]):\n",
    "    train_set = origin_cycles.loc[train_index]\n",
    "    test_set = origin_cycles.loc[test_index]\n",
    "\n",
    "train_set = train_set.drop(columns=['id'])\n",
    "test_set = test_set.drop(columns=['id'])"
   ],
   "metadata": {
    "collapsed": false,
    "pycharm": {
     "name": "#%%\n"
    }
   }
  },
  {
   "cell_type": "markdown",
   "source": [
    "Так как представленные показатели измерений имеют разные масштабы, необходимо стандартизировать значения показателей."
   ],
   "metadata": {
    "collapsed": false,
    "pycharm": {
     "name": "#%% md\n"
    }
   }
  },
  {
   "cell_type": "code",
   "execution_count": 6,
   "outputs": [],
   "source": [
    "data_pipeline = Pipeline([\n",
    "    ('std_scaler', StandardScaler())\n",
    "])"
   ],
   "metadata": {
    "collapsed": false,
    "pycharm": {
     "name": "#%%\n"
    }
   }
  },
  {
   "cell_type": "code",
   "execution_count": 7,
   "outputs": [],
   "source": [
    "cycles = train_set.drop('cycles_to_failure', axis=1)\n",
    "cycles_labels = train_set['cycles_to_failure'].copy()"
   ],
   "metadata": {
    "collapsed": false,
    "pycharm": {
     "name": "#%%\n"
    }
   }
  },
  {
   "cell_type": "code",
   "execution_count": 8,
   "outputs": [],
   "source": [
    "cycles_prepared = data_pipeline.fit_transform(cycles)"
   ],
   "metadata": {
    "collapsed": false,
    "pycharm": {
     "name": "#%%\n"
    }
   }
  },
  {
   "cell_type": "markdown",
   "source": [
    "# Model choosing and training"
   ],
   "metadata": {
    "collapsed": false,
    "pycharm": {
     "name": "#%% md\n"
    }
   }
  },
  {
   "cell_type": "code",
   "execution_count": 9,
   "outputs": [
    {
     "name": "stdout",
     "output_type": "stream",
     "text": [
      "Current model is LinearRegression()\n",
      "RMSE on the train set: 36.61458740815899\n",
      "---------------------------------------------\n",
      "Current model is DecisionTreeRegressor()\n",
      "RMSE on the train set: 46.96130274163806\n",
      "---------------------------------------------\n",
      "Current model is AdaBoostRegressor()\n",
      "RMSE on the train set: 37.42345306129563\n",
      "---------------------------------------------\n",
      "Current model is SGDRegressor()\n",
      "RMSE on the train set: 36.687262746892074\n",
      "---------------------------------------------\n",
      "Current model is RandomForestRegressor()\n",
      "RMSE on the train set: 32.64340897297463\n",
      "---------------------------------------------\n",
      "Current model is LGBMRegressor()\n",
      "RMSE on the train set: 32.42144776516712\n",
      "---------------------------------------------\n",
      "Current model is XGBRegressor(base_score=None, booster=None, callbacks=None,\n",
      "             colsample_bylevel=None, colsample_bynode=None,\n",
      "             colsample_bytree=None, early_stopping_rounds=None,\n",
      "             enable_categorical=False, eval_metric=None, gamma=None,\n",
      "             gpu_id=None, grow_policy=None, importance_type=None,\n",
      "             interaction_constraints=None, learning_rate=None, max_bin=None,\n",
      "             max_cat_to_onehot=None, max_delta_step=None, max_depth=None,\n",
      "             max_leaves=None, min_child_weight=None, missing=nan,\n",
      "             monotone_constraints=None, n_estimators=100, n_jobs=None,\n",
      "             num_parallel_tree=None, predictor=None, random_state=None,\n",
      "             reg_alpha=None, reg_lambda=None, ...)\n",
      "RMSE on the train set: 34.0995113899182\n",
      "---------------------------------------------\n",
      "Current model is <catboost.core.CatBoostRegressor object at 0x000001E15541FE80>\n",
      "RMSE on the train set: 32.2056281150261\n",
      "---------------------------------------------\n",
      "The best model is <catboost.core.CatBoostRegressor object at 0x000001E15541FE80> with the error value: 32.2056281150261\n"
     ]
    }
   ],
   "source": [
    "best_model = None\n",
    "lowest_error = float('inf')\n",
    "\n",
    "for model in [LinearRegression(), DecisionTreeRegressor(), AdaBoostRegressor(), SGDRegressor(),RandomForestRegressor(), LGBMRegressor(), XGBRegressor(), CatBoostRegressor(verbose=False, od_type='IncToDec')]:\n",
    "    print(f'Current model is {model}')\n",
    "    regressor = model\n",
    "    regressor.fit(cycles_prepared, cycles_labels)\n",
    "    mean_error, std = cross_val_evaluation(cycles_prepared, cycles_labels, regressor)\n",
    "    print(f'RMSE on the train set: {mean_error}')\n",
    "    if mean_error < lowest_error:\n",
    "        lowest_error = mean_error\n",
    "        best_model = model\n",
    "\n",
    "    print('---' * 15)\n",
    "else:\n",
    "    print(f'The best model is {best_model} with the error value: {lowest_error}')"
   ],
   "metadata": {
    "collapsed": false,
    "pycharm": {
     "name": "#%%\n"
    }
   }
  },
  {
   "cell_type": "markdown",
   "source": [
    "Наилучшим образом себя показала модель CatBoost от Яндекса. Далее имеет смысл уменьшить значения ошибки пуьтем подбора парметров."
   ],
   "metadata": {
    "collapsed": false,
    "pycharm": {
     "name": "#%% md\n"
    }
   }
  },
  {
   "cell_type": "markdown",
   "source": [
    "# Parameter tuning"
   ],
   "metadata": {
    "collapsed": false,
    "pycharm": {
     "name": "#%% md\n"
    }
   }
  },
  {
   "cell_type": "markdown",
   "source": [
    "В [документации](https://catboost.ai/en/docs/concepts/parameter-tuning) указано, какие параметры могут быть изменены для получения более приемлемого результата:\n",
    "\n",
    "* *Number of trees (iterations)* -- если было обнаружено переобучение на тестовой выборке, рекомендуется изменять в большую сторону и указать детектор переобучения (od_Type)\n",
    "* *Learning rate* -- скорость обучения, чем она меньше, тем больше итераций требуется для обучения. Если обнаружено переобучение, рекомендуется уменьшить значение\n",
    "* *Tree depth* -- глубина дерева, оптимальное значение которого находитя в диапазоне [4: 10], рекомендуется изменять значения в диапазоне [6:10]"
   ],
   "metadata": {
    "collapsed": false,
    "pycharm": {
     "name": "#%% md\n"
    }
   }
  },
  {
   "cell_type": "markdown",
   "source": [
    "Проверим полученную модель на тестовой выборке на факт переобучения."
   ],
   "metadata": {
    "collapsed": false,
    "pycharm": {
     "name": "#%% md\n"
    }
   }
  },
  {
   "cell_type": "code",
   "execution_count": 10,
   "outputs": [],
   "source": [
    "X_test = test_set.drop('cycles_to_failure', axis=1)\n",
    "y_test = test_set[\"cycles_to_failure\"].copy()\n",
    "X_test_prepared = data_pipeline.transform(X_test)"
   ],
   "metadata": {
    "collapsed": false,
    "pycharm": {
     "name": "#%%\n"
    }
   }
  },
  {
   "cell_type": "code",
   "execution_count": 11,
   "outputs": [
    {
     "data": {
      "text/plain": "32.20177074493797"
     },
     "execution_count": 11,
     "metadata": {},
     "output_type": "execute_result"
    }
   ],
   "source": [
    "get_rmse(X_test_prepared, y_test, best_model)"
   ],
   "metadata": {
    "collapsed": false,
    "pycharm": {
     "name": "#%%\n"
    }
   }
  },
  {
   "cell_type": "code",
   "execution_count": 32,
   "outputs": [
    {
     "data": {
      "text/plain": "0.722212001064028"
     },
     "execution_count": 32,
     "metadata": {},
     "output_type": "execute_result"
    }
   ],
   "source": [
    "get_r2(X_test_prepared, y_test, best_model)"
   ],
   "metadata": {
    "collapsed": false,
    "pycharm": {
     "name": "#%%\n"
    }
   }
  },
  {
   "cell_type": "markdown",
   "source": [
    "Попробуем улучшить имеющийся результат путем поиска других параметров."
   ],
   "metadata": {
    "collapsed": false,
    "pycharm": {
     "name": "#%% md\n"
    }
   }
  },
  {
   "cell_type": "code",
   "execution_count": 12,
   "outputs": [
    {
     "data": {
      "text/plain": "{'nan_mode': 'Min',\n 'eval_metric': 'RMSE',\n 'iterations': 1000,\n 'sampling_frequency': 'PerTree',\n 'leaf_estimation_method': 'Newton',\n 'od_pval': 0,\n 'grow_policy': 'SymmetricTree',\n 'penalties_coefficient': 1,\n 'boosting_type': 'Plain',\n 'model_shrink_mode': 'Constant',\n 'feature_border_type': 'GreedyLogSum',\n 'bayesian_matrix_reg': 0.10000000149011612,\n 'force_unit_auto_pair_weights': False,\n 'l2_leaf_reg': 3,\n 'random_strength': 1,\n 'od_type': 'IncToDec',\n 'rsm': 1,\n 'boost_from_average': True,\n 'model_size_reg': 0.5,\n 'pool_metainfo_options': {'tags': {}},\n 'subsample': 0.800000011920929,\n 'use_best_model': False,\n 'od_wait': 20,\n 'random_seed': 0,\n 'depth': 6,\n 'posterior_sampling': False,\n 'border_count': 254,\n 'classes_count': 0,\n 'auto_class_weights': 'None',\n 'sparse_features_conflict_fraction': 0,\n 'leaf_estimation_backtracking': 'AnyImprovement',\n 'best_model_min_trees': 1,\n 'model_shrink_rate': 0,\n 'min_data_in_leaf': 1,\n 'loss_function': 'RMSE',\n 'learning_rate': 0.0613350011408329,\n 'score_function': 'Cosine',\n 'task_type': 'CPU',\n 'leaf_estimation_iterations': 1,\n 'bootstrap_type': 'MVS',\n 'max_leaves': 64}"
     },
     "execution_count": 12,
     "metadata": {},
     "output_type": "execute_result"
    }
   ],
   "source": [
    "best_model.get_all_params()"
   ],
   "metadata": {
    "collapsed": false,
    "pycharm": {
     "name": "#%%\n"
    }
   }
  },
  {
   "cell_type": "code",
   "execution_count": 13,
   "outputs": [
    {
     "data": {
      "text/plain": "GridSearchCV(cv=2,\n             estimator=<catboost.core.CatBoostRegressor object at 0x000001E15541FE80>,\n             param_grid=[{'depth': [6, 10, 12], 'iterations': [1000, 2000],\n                          'learning_rate': [0.01, 0.0613]}],\n             return_train_score=True, scoring='neg_mean_squared_error')"
     },
     "execution_count": 13,
     "metadata": {},
     "output_type": "execute_result"
    }
   ],
   "source": [
    "param_grid = [\n",
    "     {\n",
    "        'depth' : [6, 10, 12],\n",
    "        'learning_rate' : [0.01, 0.0613],\n",
    "        'iterations': [1000, 2000]\n",
    "      }\n",
    "\n",
    "]\n",
    "grid_search = GridSearchCV(best_model, param_grid, cv=2,\n",
    "                           scoring='neg_mean_squared_error',\n",
    "                           return_train_score=True)\n",
    "grid_search.fit(cycles_prepared, cycles_labels)"
   ],
   "metadata": {
    "collapsed": false,
    "pycharm": {
     "name": "#%%\n"
    }
   }
  },
  {
   "cell_type": "code",
   "execution_count": 14,
   "outputs": [
    {
     "data": {
      "text/plain": "{'depth': 10, 'iterations': 1000, 'learning_rate': 0.01}"
     },
     "execution_count": 14,
     "metadata": {},
     "output_type": "execute_result"
    }
   ],
   "source": [
    "grid_search.best_params_"
   ],
   "metadata": {
    "collapsed": false,
    "pycharm": {
     "name": "#%%\n"
    }
   }
  },
  {
   "cell_type": "code",
   "execution_count": 15,
   "outputs": [
    {
     "data": {
      "text/plain": "<catboost.core.CatBoostRegressor at 0x1e155477c40>"
     },
     "execution_count": 15,
     "metadata": {},
     "output_type": "execute_result"
    }
   ],
   "source": [
    "grid_search.best_estimator_"
   ],
   "metadata": {
    "collapsed": false,
    "pycharm": {
     "name": "#%%\n"
    }
   }
  },
  {
   "cell_type": "code",
   "execution_count": 16,
   "outputs": [
    {
     "name": "stdout",
     "output_type": "stream",
     "text": [
      "32.19111992106524 {'depth': 6, 'iterations': 1000, 'learning_rate': 0.01}\n",
      "32.78445374668167 {'depth': 6, 'iterations': 1000, 'learning_rate': 0.0613}\n",
      "32.239367074420564 {'depth': 6, 'iterations': 2000, 'learning_rate': 0.01}\n",
      "33.24256200839746 {'depth': 6, 'iterations': 2000, 'learning_rate': 0.0613}\n",
      "32.18460081397331 {'depth': 10, 'iterations': 1000, 'learning_rate': 0.01}\n",
      "32.77707213954453 {'depth': 10, 'iterations': 1000, 'learning_rate': 0.0613}\n",
      "32.264397647737724 {'depth': 10, 'iterations': 2000, 'learning_rate': 0.01}\n",
      "32.884402360806774 {'depth': 10, 'iterations': 2000, 'learning_rate': 0.0613}\n",
      "32.24751775471402 {'depth': 12, 'iterations': 1000, 'learning_rate': 0.01}\n",
      "32.64271150139105 {'depth': 12, 'iterations': 1000, 'learning_rate': 0.0613}\n",
      "32.30039103329568 {'depth': 12, 'iterations': 2000, 'learning_rate': 0.01}\n",
      "32.67810769773072 {'depth': 12, 'iterations': 2000, 'learning_rate': 0.0613}\n"
     ]
    }
   ],
   "source": [
    "cvres = grid_search.cv_results_\n",
    "for mean_score, params in zip(cvres[\"mean_test_score\"], cvres[\"params\"]):\n",
    "    print(np.sqrt(-mean_score), params)"
   ],
   "metadata": {
    "collapsed": false,
    "pycharm": {
     "name": "#%%\n"
    }
   }
  },
  {
   "cell_type": "markdown",
   "source": [
    "# Evaluation on the test set"
   ],
   "metadata": {
    "collapsed": false,
    "pycharm": {
     "name": "#%% md\n"
    }
   }
  },
  {
   "cell_type": "code",
   "execution_count": 17,
   "outputs": [
    {
     "data": {
      "text/plain": "<catboost.core.CatBoostRegressor at 0x1e155477c40>"
     },
     "execution_count": 17,
     "metadata": {},
     "output_type": "execute_result"
    }
   ],
   "source": [
    "final_model = grid_search.best_estimator_\n",
    "final_model"
   ],
   "metadata": {
    "collapsed": false,
    "pycharm": {
     "name": "#%%\n"
    }
   }
  },
  {
   "cell_type": "code",
   "execution_count": 18,
   "outputs": [],
   "source": [
    "X_test = test_set.drop('cycles_to_failure', axis=1)\n",
    "y_test = test_set[\"cycles_to_failure\"].copy()\n",
    "X_test_prepared = data_pipeline.transform(X_test)"
   ],
   "metadata": {
    "collapsed": false,
    "pycharm": {
     "name": "#%%\n"
    }
   }
  },
  {
   "cell_type": "code",
   "execution_count": 19,
   "outputs": [
    {
     "data": {
      "text/plain": "31.88204737951477"
     },
     "execution_count": 19,
     "metadata": {},
     "output_type": "execute_result"
    }
   ],
   "source": [
    "get_rmse(X_test_prepared, y_test, final_model)"
   ],
   "metadata": {
    "collapsed": false,
    "pycharm": {
     "name": "#%%\n"
    }
   }
  },
  {
   "cell_type": "code",
   "execution_count": 20,
   "outputs": [
    {
     "data": {
      "text/plain": "0.68796437004812"
     },
     "execution_count": 20,
     "metadata": {},
     "output_type": "execute_result"
    }
   ],
   "source": [
    "get_r2(X_test_prepared, y_test, final_model)"
   ],
   "metadata": {
    "collapsed": false,
    "pycharm": {
     "name": "#%%\n"
    }
   }
  },
  {
   "cell_type": "code",
   "execution_count": 35,
   "outputs": [],
   "source": [
    "final_model.save_model(fname='failure_prediction.cbm')"
   ],
   "metadata": {
    "collapsed": false,
    "pycharm": {
     "name": "#%%\n"
    }
   }
  },
  {
   "cell_type": "markdown",
   "source": [
    "# P.S. Проверка гипотезы"
   ],
   "metadata": {
    "collapsed": false,
    "pycharm": {
     "name": "#%% md\n"
    }
   }
  },
  {
   "cell_type": "markdown",
   "source": [
    "Гипотеза заключается в том, что если модель обучить на одной выборке моторов (при этом в ней сохранить параметр id), а проверить на другой, которые она раньше никогда не видела, произойдет переобучение."
   ],
   "metadata": {
    "collapsed": false,
    "pycharm": {
     "name": "#%% md\n"
    }
   }
  },
  {
   "cell_type": "code",
   "execution_count": 21,
   "outputs": [
    {
     "name": "stdout",
     "output_type": "stream",
     "text": [
      "<class 'pandas.core.frame.DataFrame'>\n",
      "RangeIndex: 16138 entries, 0 to 16137\n",
      "Data columns (total 18 columns):\n",
      " #   Column             Non-Null Count  Dtype  \n",
      "---  ------             --------------  -----  \n",
      " 0   id                 16138 non-null  int64  \n",
      " 1   cycle              16138 non-null  int64  \n",
      " 2   p02                16138 non-null  float64\n",
      " 3   p03                16138 non-null  float64\n",
      " 4   p04                16138 non-null  float64\n",
      " 5   p05                16138 non-null  float64\n",
      " 6   p06                16138 non-null  float64\n",
      " 7   p08                16138 non-null  int64  \n",
      " 8   p11                16138 non-null  float64\n",
      " 9   p12                16138 non-null  float64\n",
      " 10  p13                16138 non-null  float64\n",
      " 11  p14                16138 non-null  float64\n",
      " 12  p15                16138 non-null  float64\n",
      " 13  p17                16138 non-null  float64\n",
      " 14  p18                16138 non-null  float64\n",
      " 15  p19                16138 non-null  float64\n",
      " 16  p20                16138 non-null  float64\n",
      " 17  cycles_to_failure  16138 non-null  int64  \n",
      "dtypes: float64(14), int64(4)\n",
      "memory usage: 2.2 MB\n"
     ]
    }
   ],
   "source": [
    "df = pd.read_csv('data.csv', sep=',')\n",
    "origin_cycles = df\n",
    "origin_cycles = CyclesToFailureAdder().transform(X=origin_cycles) # добавление колонки со значением циклов до отказа и удаление лишних величин\n",
    "origin_cycles.info()"
   ],
   "metadata": {
    "collapsed": false,
    "pycharm": {
     "name": "#%%\n"
    }
   }
  },
  {
   "cell_type": "code",
   "execution_count": 22,
   "outputs": [
    {
     "name": "stdout",
     "output_type": "stream",
     "text": [
      "80 64 16\n"
     ]
    }
   ],
   "source": [
    "from random import sample\n",
    "\n",
    "nums = [i for i in range (1, 81)]\n",
    "train_nums = sample(nums, k=int(80 * 0.8))\n",
    "test_nums = list(set(nums).difference(set(train_nums)))\n",
    "\n",
    "train_set = origin_cycles.loc[origin_cycles['id'].isin(train_nums)]\n",
    "test_set = origin_cycles.loc[origin_cycles['id'].isin(test_nums)]\n",
    "\n",
    "print(len(nums), len(train_nums), len(test_nums))"
   ],
   "metadata": {
    "collapsed": false,
    "pycharm": {
     "name": "#%%\n"
    }
   }
  },
  {
   "cell_type": "code",
   "execution_count": 23,
   "outputs": [],
   "source": [
    "from sklearn.utils import shuffle\n",
    "\n",
    "train_set = shuffle(train_set)\n",
    "test_set = shuffle(test_set)"
   ],
   "metadata": {
    "collapsed": false,
    "pycharm": {
     "name": "#%%\n"
    }
   }
  },
  {
   "cell_type": "code",
   "execution_count": 24,
   "outputs": [
    {
     "name": "stdout",
     "output_type": "stream",
     "text": [
      "<class 'pandas.core.frame.DataFrame'>\n",
      "Int64Index: 12864 entries, 4080 to 15094\n",
      "Data columns (total 18 columns):\n",
      " #   Column             Non-Null Count  Dtype  \n",
      "---  ------             --------------  -----  \n",
      " 0   id                 12864 non-null  int64  \n",
      " 1   cycle              12864 non-null  int64  \n",
      " 2   p02                12864 non-null  float64\n",
      " 3   p03                12864 non-null  float64\n",
      " 4   p04                12864 non-null  float64\n",
      " 5   p05                12864 non-null  float64\n",
      " 6   p06                12864 non-null  float64\n",
      " 7   p08                12864 non-null  int64  \n",
      " 8   p11                12864 non-null  float64\n",
      " 9   p12                12864 non-null  float64\n",
      " 10  p13                12864 non-null  float64\n",
      " 11  p14                12864 non-null  float64\n",
      " 12  p15                12864 non-null  float64\n",
      " 13  p17                12864 non-null  float64\n",
      " 14  p18                12864 non-null  float64\n",
      " 15  p19                12864 non-null  float64\n",
      " 16  p20                12864 non-null  float64\n",
      " 17  cycles_to_failure  12864 non-null  int64  \n",
      "dtypes: float64(14), int64(4)\n",
      "memory usage: 1.9 MB\n"
     ]
    }
   ],
   "source": [
    "train_set.info()"
   ],
   "metadata": {
    "collapsed": false,
    "pycharm": {
     "name": "#%%\n"
    }
   }
  },
  {
   "cell_type": "code",
   "execution_count": 25,
   "outputs": [
    {
     "data": {
      "text/plain": "array([20, 48, 75, 80, 41, 21, 14,  2,  1, 28, 32,  7, 30, 10, 50, 72, 73,\n       65, 67, 16, 15, 58, 70, 33, 64, 42,  9,  3, 55, 56,  5, 51, 36, 53,\n       27, 62, 69, 59, 13, 44, 37, 71, 25, 19,  4, 12, 45, 34, 11, 77, 40,\n       39, 61, 18, 29, 23, 66, 49, 17, 24, 60, 68,  8,  6], dtype=int64)"
     },
     "execution_count": 25,
     "metadata": {},
     "output_type": "execute_result"
    }
   ],
   "source": [
    "train_set['id'].unique()"
   ],
   "metadata": {
    "collapsed": false,
    "pycharm": {
     "name": "#%%\n"
    }
   }
  },
  {
   "cell_type": "code",
   "execution_count": 26,
   "outputs": [
    {
     "name": "stdout",
     "output_type": "stream",
     "text": [
      "<class 'pandas.core.frame.DataFrame'>\n",
      "Int64Index: 3274 entries, 9082 to 4409\n",
      "Data columns (total 18 columns):\n",
      " #   Column             Non-Null Count  Dtype  \n",
      "---  ------             --------------  -----  \n",
      " 0   id                 3274 non-null   int64  \n",
      " 1   cycle              3274 non-null   int64  \n",
      " 2   p02                3274 non-null   float64\n",
      " 3   p03                3274 non-null   float64\n",
      " 4   p04                3274 non-null   float64\n",
      " 5   p05                3274 non-null   float64\n",
      " 6   p06                3274 non-null   float64\n",
      " 7   p08                3274 non-null   int64  \n",
      " 8   p11                3274 non-null   float64\n",
      " 9   p12                3274 non-null   float64\n",
      " 10  p13                3274 non-null   float64\n",
      " 11  p14                3274 non-null   float64\n",
      " 12  p15                3274 non-null   float64\n",
      " 13  p17                3274 non-null   float64\n",
      " 14  p18                3274 non-null   float64\n",
      " 15  p19                3274 non-null   float64\n",
      " 16  p20                3274 non-null   float64\n",
      " 17  cycles_to_failure  3274 non-null   int64  \n",
      "dtypes: float64(14), int64(4)\n",
      "memory usage: 486.0 KB\n"
     ]
    }
   ],
   "source": [
    "test_set.info()"
   ],
   "metadata": {
    "collapsed": false,
    "pycharm": {
     "name": "#%%\n"
    }
   }
  },
  {
   "cell_type": "code",
   "execution_count": 27,
   "outputs": [
    {
     "data": {
      "text/plain": "array([47, 46, 43, 35, 78, 57, 54, 76, 26, 52, 63, 22, 38, 79, 31, 74],\n      dtype=int64)"
     },
     "execution_count": 27,
     "metadata": {},
     "output_type": "execute_result"
    }
   ],
   "source": [
    "test_set['id'].unique()"
   ],
   "metadata": {
    "collapsed": false,
    "pycharm": {
     "name": "#%%\n"
    }
   }
  },
  {
   "cell_type": "code",
   "execution_count": 28,
   "outputs": [],
   "source": [
    "data_pipeline = Pipeline([\n",
    "    ('std_scaler', StandardScaler())\n",
    "])\n",
    "cycles = train_set.drop('cycles_to_failure', axis=1)\n",
    "cycles_labels = train_set['cycles_to_failure'].copy()\n",
    "cycles_prepared = data_pipeline.fit_transform(cycles)"
   ],
   "metadata": {
    "collapsed": false,
    "pycharm": {
     "name": "#%%\n"
    }
   }
  },
  {
   "cell_type": "code",
   "execution_count": 29,
   "outputs": [
    {
     "name": "stdout",
     "output_type": "stream",
     "text": [
      "Current model is LinearRegression()\n",
      "RMSE on the train set: 38.244882174778866\n",
      "---------------------------------------------\n",
      "Current model is DecisionTreeRegressor()\n",
      "RMSE on the train set: 21.19005570772807\n",
      "---------------------------------------------\n",
      "Current model is AdaBoostRegressor()\n",
      "RMSE on the train set: 34.53787298169793\n",
      "---------------------------------------------\n",
      "Current model is SGDRegressor()\n",
      "RMSE on the train set: 38.3075249633565\n",
      "---------------------------------------------\n",
      "Current model is RandomForestRegressor()\n",
      "RMSE on the train set: 13.550285578588571\n",
      "---------------------------------------------\n",
      "Current model is LGBMRegressor()\n",
      "RMSE on the train set: 8.6819547288274\n",
      "---------------------------------------------\n",
      "Current model is XGBRegressor(base_score=None, booster=None, callbacks=None,\n",
      "             colsample_bylevel=None, colsample_bynode=None,\n",
      "             colsample_bytree=None, early_stopping_rounds=None,\n",
      "             enable_categorical=False, eval_metric=None, gamma=None,\n",
      "             gpu_id=None, grow_policy=None, importance_type=None,\n",
      "             interaction_constraints=None, learning_rate=None, max_bin=None,\n",
      "             max_cat_to_onehot=None, max_delta_step=None, max_depth=None,\n",
      "             max_leaves=None, min_child_weight=None, missing=nan,\n",
      "             monotone_constraints=None, n_estimators=100, n_jobs=None,\n",
      "             num_parallel_tree=None, predictor=None, random_state=None,\n",
      "             reg_alpha=None, reg_lambda=None, ...)\n",
      "RMSE on the train set: 9.57858247049775\n",
      "---------------------------------------------\n",
      "Current model is <catboost.core.CatBoostRegressor object at 0x000001E155421040>\n",
      "RMSE on the train set: 5.447508404341145\n",
      "---------------------------------------------\n",
      "The best model is <catboost.core.CatBoostRegressor object at 0x000001E155421040> with the error value: 5.447508404341145\n"
     ]
    }
   ],
   "source": [
    "best_model = None\n",
    "lowest_error = float('inf')\n",
    "\n",
    "for model in [LinearRegression(), DecisionTreeRegressor(), AdaBoostRegressor(), SGDRegressor(),RandomForestRegressor(), LGBMRegressor(), XGBRegressor(), CatBoostRegressor(verbose=False, od_type='IncToDec')]:\n",
    "    print(f'Current model is {model}')\n",
    "    regressor = model\n",
    "    regressor.fit(cycles_prepared, cycles_labels)\n",
    "    mean_error, std = cross_val_evaluation(cycles_prepared, cycles_labels, regressor)\n",
    "    print(f'RMSE on the train set: {mean_error}')\n",
    "    if mean_error < lowest_error:\n",
    "        lowest_error = mean_error\n",
    "        best_model = model\n",
    "\n",
    "    print('---' * 15)\n",
    "else:\n",
    "    print(f'The best model is {best_model} with the error value: {lowest_error}')"
   ],
   "metadata": {
    "collapsed": false,
    "pycharm": {
     "name": "#%%\n"
    }
   }
  },
  {
   "cell_type": "code",
   "execution_count": 30,
   "outputs": [],
   "source": [
    "X_test = test_set.drop('cycles_to_failure', axis=1)\n",
    "y_test = test_set[\"cycles_to_failure\"].copy()\n",
    "X_test_prepared = data_pipeline.transform(X_test)"
   ],
   "metadata": {
    "collapsed": false,
    "pycharm": {
     "name": "#%%\n"
    }
   }
  },
  {
   "cell_type": "code",
   "execution_count": 31,
   "outputs": [
    {
     "data": {
      "text/plain": "30.486477738623808"
     },
     "execution_count": 31,
     "metadata": {},
     "output_type": "execute_result"
    }
   ],
   "source": [
    "get_rmse(X_test_prepared, y_test, best_model)"
   ],
   "metadata": {
    "collapsed": false,
    "pycharm": {
     "name": "#%%\n"
    }
   }
  },
  {
   "cell_type": "markdown",
   "source": [
    "Как и ожидалось, произошло значительное переобучение модели."
   ],
   "metadata": {
    "collapsed": false,
    "pycharm": {
     "name": "#%% md\n"
    }
   }
  }
 ],
 "metadata": {
  "kernelspec": {
   "display_name": "Python 3",
   "language": "python",
   "name": "python3"
  },
  "language_info": {
   "codemirror_mode": {
    "name": "ipython",
    "version": 2
   },
   "file_extension": ".py",
   "mimetype": "text/x-python",
   "name": "python",
   "nbconvert_exporter": "python",
   "pygments_lexer": "ipython2",
   "version": "2.7.6"
  }
 },
 "nbformat": 4,
 "nbformat_minor": 0
}